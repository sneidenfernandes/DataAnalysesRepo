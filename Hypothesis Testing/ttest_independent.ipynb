{
 "cells": [
  {
   "cell_type": "markdown",
   "id": "8ef97b53-95e8-4fca-a63c-9e498c17a8d9",
   "metadata": {},
   "source": [
    "\n",
    "### t - test (Independent)"
   ]
  },
  {
   "cell_type": "markdown",
   "id": "a678b634-9fd5-4ef1-b558-1feb46c3ae74",
   "metadata": {},
   "source": []
  },
  {
   "cell_type": "code",
   "execution_count": 2,
   "id": "17a0b298-985d-4c44-8168-4b8c2410c981",
   "metadata": {},
   "outputs": [],
   "source": [
    "# Required Libraries\n",
    "\n",
    "import scikit_posthocs as sp\n",
    "import numpy as np\n",
    "from scipy import stats\n",
    "import pandas as pd\n",
    "pd.options.display.float_format = '{:,.4f}'.format"
   ]
  },
  {
   "cell_type": "markdown",
   "id": "29d562c3-5339-4e58-a289-e79dd1ad825b",
   "metadata": {},
   "source": [
    "\n",
    "<b>Q1</b>.\n",
    "\n",
    "A university professor gave online lectures instead of face-to-face classes due to Covid-19. Later, he uploaded recorded lectures to the cloud for students who followed the course asynchronously (those who did not attend the lesson but later watched the records). However, he believes that the students who attend class at the class time and participate in the process are more successful. Therefore, he recorded the average grades of the students at the end of the semester. The data is below.\n",
    "\n",
    "synchronous = [94. , 84.9, 82.6, 69.5, 80.1, 79.6, 81.4, 77.8, 81.7, 78.8, 73.2, 87.9, 87.9, 93.5, 82.3, 79.3, 78.3, 71.6, 88.6, 74.6, 74.1, 80.6]\n",
    "asynchronous = [77.1, 71.7, 91. , 72.2, 74.8, 85.1, 67.6, 69.9, 75.3, 71.7, 65.7, 72.6, 71.5, 78.2]\n",
    "\n",
    "Conduct the hypothesis testing to check whether the professor's belief is statistically significant by using a 0.05 significance level to evaluate the null and alternative hypotheses. Before doing hypothesis testing, check the related assumptions. Comment on the results.\n",
    "\n",
    "<b>Assumptions</b>\n",
    "\n",
    "Observations in each sample are independent and identically distributed (iid). <br>\n",
    "Observations in each sample are normally distributed. <br>\n",
    "Observations in each sample have the same variance. <br>"
   ]
  },
  {
   "cell_type": "code",
   "execution_count": 18,
   "id": "228c075b-5b1e-4fbf-9e22-72b97572a695",
   "metadata": {},
   "outputs": [],
   "source": [
    "# test for checking normality \n",
    "\n",
    "def check_normality(data,sig):\n",
    "     test_stat, p_value = stats.shapiro(data)\n",
    "     print(p_value)\n",
    "     if p_value < sig:\n",
    "         print(f'Reject Null Hypothesis >>> Data are not normally distributed.')\n",
    "     else:\n",
    "         print(f'Fail to Reject Null Hyothesis >>> Data are normally distributed.' )\n",
    "\n",
    "# test for checking differences in variaces \n",
    "\n",
    "def check_variance_homogeinity(group1, group2, sig):\n",
    "    test_stat_var, p_value = stats.levene(group1,group2)\n",
    "    print(p_value)\n",
    "    if p_value < sig:\n",
    "         print(f'Reject Null Hypothesis >>> Variances of the two samples are different.')\n",
    "    else:\n",
    "         print(f'Fail to Reject Null Hyothesis >>> Variances of the samples are the same.' )\n",
    "        \n"
   ]
  },
  {
   "cell_type": "code",
   "execution_count": 3,
   "id": "1a683bba-8978-4022-bbf2-3149d0df55f2",
   "metadata": {},
   "outputs": [],
   "source": [
    "# Assigning the data\n",
    "\n",
    "sync = np.array([94. , 84.9, 82.6, 69.5, 80.1, 79.6, 81.4, 77.8, 81.7, 78.8, \n",
    "                 73.2, 87.9, 87.9, 93.5, 82.3, 79.3, 78.3, 71.6, 88.6, 74.6, 74.1, 80.6] )\n",
    "\n",
    "asyncr = np.array([77.1, 71.7, 91. , 72.2, 74.8, 85.1, 67.6, 69.9, 75.3, 71.7, 65.7, 72.6, 71.5, 78.2])\n"
   ]
  },
  {
   "cell_type": "markdown",
   "id": "06c72197-0ba1-4dfa-94ad-65de2ee36388",
   "metadata": {},
   "source": [
    "<b>Testing for Normality at 0.05 </b> \n",
    "\n",
    "Ho : The data are normally distributed. <br>\n",
    "Ha : The data are not normally distrubuted."
   ]
  },
  {
   "cell_type": "code",
   "execution_count": 19,
   "id": "9896632f-0826-4215-9f97-22d2a817d43b",
   "metadata": {},
   "outputs": [
    {
     "name": "stdout",
     "output_type": "stream",
     "text": [
      "0.6555896997451782\n",
      "Fail to Reject Null Hyothesis >>> Data are normally distributed.\n",
      "0.08030176907777786\n",
      "Fail to Reject Null Hyothesis >>> Data are normally distributed.\n"
     ]
    }
   ],
   "source": [
    "check_normality(sync, 0.05)\n",
    "check_normality(asyncr, 0.05)"
   ]
  },
  {
   "cell_type": "markdown",
   "id": "a813afd4-0242-41c7-8955-5445efb9d778",
   "metadata": {},
   "source": [
    "<b> Testing for differences in Variances at 0.05 </b>\n",
    "\n",
    "Ho: The variances of the two samples are not different. <br>\n",
    "Ha: The variances of the two samples are different. \n"
   ]
  },
  {
   "cell_type": "code",
   "execution_count": 20,
   "id": "a9d2a830-f7ad-4946-86e6-18c0553c3433",
   "metadata": {},
   "outputs": [
    {
     "name": "stdout",
     "output_type": "stream",
     "text": [
      "0.8148984115435045\n",
      "Fail to Reject Null Hyothesis >>> Variances of the samples are the same.\n"
     ]
    }
   ],
   "source": [
    "check_variance_homogeinity(sync,asyncr, 0.05)"
   ]
  },
  {
   "cell_type": "markdown",
   "id": "815b9c0d-1da8-44d5-a7b3-e8a4b0ec918c",
   "metadata": {},
   "source": [
    "<b> Testing if the mean score of synchronus students is greater than the mean score of the asynchronus students </b>\n",
    "\n",
    "Ho : mean score of the Synchronus Students is less than equal to mean score of Asychronus Students <br>\n",
    "H1 : mean score of the Synchronus Students is greater than the mean score of Asynchronus Students <br>\n"
   ]
  },
  {
   "cell_type": "code",
   "execution_count": 22,
   "id": "03d485a9-a0df-4a40-8239-229d864c65e7",
   "metadata": {},
   "outputs": [
    {
     "name": "stdout",
     "output_type": "stream",
     "text": [
      "P-value:0.007535984340826129\n",
      "Reject Null Hypothesis\n"
     ]
    }
   ],
   "source": [
    "ttest, p_value = stats.ttest_ind(sync, asyncr)\n",
    "print(f'P-value:{p_value}')\n",
    "\n",
    "if p_value/2 < 0.05:\n",
    "    print('Reject Null Hypothesis')\n",
    "else:\n",
    "    print('Fail to Reject Null Hypothesis')\n",
    "\n"
   ]
  },
  {
   "cell_type": "markdown",
   "id": "0be17158-77de-46e3-8104-3c848b8d12e6",
   "metadata": {},
   "source": [
    "<b>Conclusion: There is enough evidence to conclude that the average grade of the students who follow the course synchronously \n",
    "is higher than the students who follow the group asynchronously<b/>"
   ]
  }
 ],
 "metadata": {
  "kernelspec": {
   "display_name": "Python 3 (ipykernel)",
   "language": "python",
   "name": "python3"
  },
  "language_info": {
   "codemirror_mode": {
    "name": "ipython",
    "version": 3
   },
   "file_extension": ".py",
   "mimetype": "text/x-python",
   "name": "python",
   "nbconvert_exporter": "python",
   "pygments_lexer": "ipython3",
   "version": "3.8.8"
  }
 },
 "nbformat": 4,
 "nbformat_minor": 5
}
